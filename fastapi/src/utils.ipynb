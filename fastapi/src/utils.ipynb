{
 "cells": [
  {
   "cell_type": "code",
   "execution_count": null,
   "metadata": {},
   "outputs": [],
   "source": [
    "from passlib.context import CryptContext\n"
   ]
  },
  {
   "attachments": {},
   "cell_type": "markdown",
   "metadata": {},
   "source": [
    "> imports the CryptContext class from the passlib library, which is used to securely hash passwords.\n",
    "> When you hash a password, you convert it from its original \n",
    "> form (a string of characters) into a fixed-length string of bytes, \n",
    "> using a mathematical algorithm that cannot be reversed. The resulting hash value is \n",
    "> unique to the original password, and any small change to the password will result in a completely different hash value."
   ]
  },
  {
   "attachments": {},
   "cell_type": "markdown",
   "metadata": {},
   "source": []
  },
  {
   "cell_type": "code",
   "execution_count": null,
   "metadata": {},
   "outputs": [],
   "source": [
    "\n",
    "from datetime import datetime, timedelta\n",
    "# library, which are used to work with dates and times.\n"
   ]
  },
  {
   "cell_type": "code",
   "execution_count": null,
   "metadata": {},
   "outputs": [],
   "source": [
    "from settings import SECRET_KEY, ALGORITHM, ACCESS_TOKEN_EXPIRE_MINUTES, REFRESH_TOKEN_EXPIRE_MINUTES"
   ]
  },
  {
   "attachments": {},
   "cell_type": "markdown",
   "metadata": {},
   "source": [
    "\n",
    "> SECRET_KEY is likely a string or byte string used as a secret key for encoding and decoding tokens. This is > > > > typically used to verify the authenticity of a \n",
    "> token and to prevent it from being tampered with."
   ]
  },
  {
   "attachments": {},
   "cell_type": "markdown",
   "metadata": {},
   "source": [
    "password_context = CryptContext(schemes=[\"bcrypt\"], deprecated=\"auto\")\n"
   ]
  },
  {
   "attachments": {},
   "cell_type": "markdown",
   "metadata": {},
   "source": [
    "> using the bcrypt algorithm. To verify a password against a previously generated hash\n",
    "> When set to \"auto\", the CryptContext object will automatically upgrade any hashes that use a deprecated \n",
    "> scheme to a newer scheme when the hash is verified. \n",
    "or example, the MD5 hash algorithm was once widely used for password hashing,\n",
    ">  but it has since been found to be \n",
    "> insecure due to its susceptibility to collision attacks."
   ]
  },
  {
   "attachments": {},
   "cell_type": "markdown",
   "metadata": {},
   "source": [
    "def get_hashed_password(password: str) -> str:\n",
    "    return password_context.hash(password)\n",
    "#get_hashed_password that takes a string password as input \n",
    "# and returns a hashed version of the password as a string.\n",
    "\n",
    "\n",
    "def verify_password(password: str, hashed_pass: str) -> bool:\n",
    "    return password_context.verify(password, hashed_pass)\n",
    "#verify_password that takes two string arguments: password and hashed_pass.\n",
    "#  The function returns a boolean value indicating whether the plaintext \n",
    "# password matches the hashed version stored in hashed_pass.\n",
    "\n",
    "\n",
    "def create_access_token(subject: Union[str, Any], expires_delta: Optional[timedelta] = None) -> str:\n",
    "    if expires_delta is not None:\n",
    "        expires_delta = datetime.utcnow() + expires_delta\n",
    "    else:\n",
    "        expires_delta = datetime.utcnow() + timedelta(minutes=ACCESS_TOKEN_EXPIRE_MINUTES)\n",
    " #create_access_token that takes two arguments: subject and expires_delta. \n",
    " # The function returns a string, which is a JSON Web Token (JWT) \n",
    " # that can be used to authenticate and authorize access to protected resources.\n",
    "\n",
    "\n",
    "    to_encode = {\"exp\": expires_delta, \"sub\": str(subject)}\n",
    "    encoded_jwt = jwt.encode(to_encode, SECRET_KEY, ALGORITHM)\n",
    "    return encoded_jwt\n",
    "\n",
    "\n",
    "def create_refresh_token(subject: Union[str, Any], expires_delta: Optional[timedelta] = None) -> str:\n",
    "    if expires_delta is not None:\n",
    "        expires_delta = datetime.utcnow() + expires_delta\n",
    "    else:\n",
    "        expires_delta = datetime.utcnow() + timedelta(minutes=REFRESH_TOKEN_EXPIRE_MINUTES)\n",
    "\n",
    "    to_encode = {\"exp\": expires_delta, \"sub\": str(subject)}\n",
    "    encoded_jwt = jwt.encode(to_encode, SECRET_KEY, ALGORITHM)\n",
    "    return encoded_jwt"
   ]
  },
  {
   "attachments": {},
   "cell_type": "markdown",
   "metadata": {},
   "source": [
    "\n",
    "> The above code defines a function called create_refresh_token \n",
    "> that takes two arguments: subject and expires_delta. \n",
    "> The function returns a string, which is a JSON Web Token (JWT) that can be used to obtain a new access token.\n",
    "\n",
    "> The subject argument can be either a string \n",
    "> or any other value that can be serialized to JSON. \n",
    "> It represents the identity of the user for whom the refresh token is being created."
   ]
  }
 ],
 "metadata": {
  "kernelspec": {
   "display_name": "Python 3",
   "language": "python",
   "name": "python3"
  },
  "language_info": {
   "name": "python",
   "version": "3.9.6"
  },
  "orig_nbformat": 4
 },
 "nbformat": 4,
 "nbformat_minor": 2
}
